{
 "cells": [
  {
   "cell_type": "markdown",
   "metadata": {},
   "source": [
    "#### Answers submitted by:  Joseph Hamilton\n",
    "#### Date:  December 9, 2017  \n",
    "---"
   ]
  },
  {
   "cell_type": "markdown",
   "metadata": {},
   "source": [
    "# Python Part 3:  Pandas Exercises\n",
    "# Metis Bootcamp Prework - 05c Intro to Pandas\n",
    "## Data Exploration - Olive Dataset\n",
    "---"
   ]
  },
  {
   "cell_type": "markdown",
   "metadata": {},
   "source": [
    "## Q1:  Read in the libraries you need"
   ]
  },
  {
   "cell_type": "code",
   "execution_count": 1,
   "metadata": {
    "collapsed": true
   },
   "outputs": [],
   "source": [
    "# imports a library 'pandas', names it as 'pd'\n",
    "import pandas as pd\n",
    "import numpy as np\n",
    "import matplotlib.pyplot as plt\n",
    "\n",
    "from IPython.display import Image\n",
    "\n",
    "# enables inline plots, without it plots don't show up in the notebook\n",
    "%matplotlib inline"
   ]
  },
  {
   "cell_type": "markdown",
   "metadata": {},
   "source": [
    "## Q2:  Set options in pandas so it displays `max_rows` to 10"
   ]
  },
  {
   "cell_type": "code",
   "execution_count": 2,
   "metadata": {},
   "outputs": [],
   "source": [
    "# set various options in pandas\n",
    "pd.set_option('display.max_columns', None)\n",
    "pd.set_option('display.max_rows', 10)\n",
    "pd.set_option('display.precision', 3)"
   ]
  },
  {
   "cell_type": "markdown",
   "metadata": {},
   "source": [
    "## Q3:  What versions of `Python` and `pandas` are you running?  \n",
    "\n"
   ]
  },
  {
   "cell_type": "code",
   "execution_count": 3,
   "metadata": {},
   "outputs": [
    {
     "name": "stdout",
     "output_type": "stream",
     "text": [
      "Pandas version: 0.20.3\n",
      "Numpy version: 1.13.3\n"
     ]
    }
   ],
   "source": [
    "print(\"Pandas version:\",pd.__version__)\n",
    "print(\"Numpy version:\",np.__version__)"
   ]
  },
  {
   "cell_type": "code",
   "execution_count": 5,
   "metadata": {},
   "outputs": [
    {
     "name": "stdout",
     "output_type": "stream",
     "text": [
      "Python Version: 3.6.3 |Anaconda, Inc.| (default, Oct 13 2017, 12:02:49) \n",
      "[GCC 7.2.0]\n"
     ]
    }
   ],
   "source": [
    "# confirming which version of Python I am using\n",
    "import sys\n",
    "print(\"Python Version:\", sys.version)"
   ]
  },
  {
   "cell_type": "markdown",
   "metadata": {},
   "source": [
    "## Q4:  Read in the \"olive\" dataset that is available in this folder\n",
    "Description:  572 olive oil samples from 3 different regions (and 9 sub-regions) of Italy; for each sample the normalized concentrations of 8 fatty acids are given.  \n",
    "Source:  http://www2.chemie.uni-erlangen.de/publications/ANN-book/datasets/oliveoil/\n",
    "\n",
    "There are 3 regions: \n",
    "* South\n",
    "* North\n",
    "* Sardinia\n",
    "\n",
    "There are 9 sub-regions (areas): \n",
    "* North Apulia\n",
    "* South Apulia\n",
    "* Calabria\n",
    "* Sicily\n",
    "* Inland\n",
    "* Coastal Sardinia\n",
    "* Umbria\n",
    "* East\n",
    "* West Liguria\n",
    "\n",
    "Supplemental report:  http://www.public.iastate.edu/~dicook/stat503/05/cs-olive.pdf"
   ]
  },
  {
   "cell_type": "code",
   "execution_count": 6,
   "metadata": {},
   "outputs": [],
   "source": [
    "# read csv data into pandas dataframe\n",
    "df = pd.read_csv('olive.csv')"
   ]
  },
  {
   "cell_type": "markdown",
   "metadata": {},
   "source": [
    "## Q5:  How many rows and columns are in this dataframe?"
   ]
  },
  {
   "cell_type": "code",
   "execution_count": 8,
   "metadata": {},
   "outputs": [
    {
     "name": "stdout",
     "output_type": "stream",
     "text": [
      "There are 572 rows and 11 columns\n"
     ]
    }
   ],
   "source": [
    " print(\"There are %d rows and %d columns\" % df.shape)"
   ]
  },
  {
   "cell_type": "markdown",
   "metadata": {},
   "source": [
    "## Q6:  Print the first 4 rows of the data"
   ]
  },
  {
   "cell_type": "code",
   "execution_count": 16,
   "metadata": {},
   "outputs": [
    {
     "name": "stdout",
     "output_type": "stream",
     "text": [
      "       Unnamed: 0  region  area  palmitic  palmitoleic  stearic  oleic  \\\n",
      "0  1.North-Apulia       1     1      1075           75      226   7823   \n",
      "1  2.North-Apulia       1     1      1088           73      224   7709   \n",
      "2  3.North-Apulia       1     1       911           54      246   8113   \n",
      "3  4.North-Apulia       1     1       966           57      240   7952   \n",
      "\n",
      "   linoleic  linolenic  arachidic  eicosenoic  \n",
      "0       672         36         60          29  \n",
      "1       781         31         61          29  \n",
      "2       549         31         63          29  \n",
      "3       619         50         78          35  \n"
     ]
    }
   ],
   "source": [
    "print(df[:4])"
   ]
  },
  {
   "cell_type": "markdown",
   "metadata": {},
   "source": [
    "## Q7:  How many different data types are in this dataframe, and what are the data types?"
   ]
  },
  {
   "cell_type": "code",
   "execution_count": 25,
   "metadata": {},
   "outputs": [
    {
     "data": {
      "text/plain": [
       "{dtype('int64'), dtype('O')}"
      ]
     },
     "execution_count": 25,
     "metadata": {},
     "output_type": "execute_result"
    }
   ],
   "source": [
    "set(df.dtypes)"
   ]
  },
  {
   "cell_type": "markdown",
   "metadata": {},
   "source": [
    "## Q8:  Create a new column\n",
    "### Copy the column to:  'Unnamed: 0' to 'sub_region_raw'"
   ]
  },
  {
   "cell_type": "code",
   "execution_count": 26,
   "metadata": {},
   "outputs": [],
   "source": [
    "df['sub_region_raw'] = df['Unnamed: 0']"
   ]
  },
  {
   "cell_type": "markdown",
   "metadata": {},
   "source": [
    "## Q9:  Rename a column\n",
    "### 'Unnamed: 0' to:  'sub_region_desc'"
   ]
  },
  {
   "cell_type": "code",
   "execution_count": 41,
   "metadata": {},
   "outputs": [],
   "source": [
    "df.rename(columns={'Unnamed: 0':'sub_region_desc'}, inplace=True)"
   ]
  },
  {
   "cell_type": "markdown",
   "metadata": {},
   "source": [
    "## Q10:  Rename the column 'area' to:  'sub_region'"
   ]
  },
  {
   "cell_type": "code",
   "execution_count": 43,
   "metadata": {},
   "outputs": [],
   "source": [
    "df.rename(columns={'area':'sub_region'}, inplace=True)"
   ]
  },
  {
   "cell_type": "markdown",
   "metadata": {},
   "source": [
    "## Q11:  How many unique values of 'region' are there?\n",
    "\n",
    "Hint:  the answer should be 3"
   ]
  },
  {
   "cell_type": "code",
   "execution_count": 45,
   "metadata": {},
   "outputs": [
    {
     "data": {
      "text/plain": [
       "{1, 2, 3}"
      ]
     },
     "execution_count": 45,
     "metadata": {},
     "output_type": "execute_result"
    }
   ],
   "source": [
    "set(df['region'])"
   ]
  },
  {
   "cell_type": "markdown",
   "metadata": {},
   "source": [
    "## Q12:  How many unique values of 'sub_region' are there?\n",
    "\n",
    "Hint:  the answer should be 9"
   ]
  },
  {
   "cell_type": "code",
   "execution_count": 70,
   "metadata": {},
   "outputs": [
    {
     "data": {
      "text/plain": [
       "{1, 2, 3, 4, 5, 6, 7, 8, 9}"
      ]
     },
     "execution_count": 70,
     "metadata": {},
     "output_type": "execute_result"
    }
   ],
   "source": [
    " set(df['sub_region'])"
   ]
  },
  {
   "cell_type": "markdown",
   "metadata": {},
   "source": [
    "## Q13:  How many unique values of 'sub_region_desc' are there?\n",
    "Hint:  we would like the answer to be 9, but here's where we run into some messy data"
   ]
  },
  {
   "cell_type": "code",
   "execution_count": 47,
   "metadata": {},
   "outputs": [
    {
     "data": {
      "text/plain": [
       "{'1.North-Apulia',\n",
       " '10.North-Apulia',\n",
       " '100.South-Apulia',\n",
       " '101.South-Apulia',\n",
       " '102.South-Apulia',\n",
       " '103.South-Apulia',\n",
       " '104.South-Apulia',\n",
       " '105.South-Apulia',\n",
       " '106.South-Apulia',\n",
       " '107.South-Apulia',\n",
       " '108.South-Apulia',\n",
       " '109.South-Apulia',\n",
       " '11.North-Apulia',\n",
       " '110.South-Apulia',\n",
       " '111.South-Apulia',\n",
       " '112.South-Apulia',\n",
       " '113.South-Apulia',\n",
       " '114.South-Apulia',\n",
       " '115.South-Apulia',\n",
       " '116.South-Apulia',\n",
       " '117.South-Apulia',\n",
       " '118.South-Apulia',\n",
       " '119.South-Apulia',\n",
       " '12.North-Apulia',\n",
       " '120.South-Apulia',\n",
       " '121.South-Apulia',\n",
       " '122.South-Apulia',\n",
       " '123.South-Apulia',\n",
       " '124.South-Apulia',\n",
       " '125.South-Apulia',\n",
       " '126.South-Apulia',\n",
       " '127.South-Apulia',\n",
       " '128.South-Apulia',\n",
       " '129.South-Apulia',\n",
       " '13.North-Apulia',\n",
       " '130.South-Apulia',\n",
       " '131.South-Apulia',\n",
       " '132.South-Apulia',\n",
       " '133.South-Apulia',\n",
       " '134.South-Apulia',\n",
       " '135.South-Apulia',\n",
       " '136.South-Apulia',\n",
       " '137.South-Apulia',\n",
       " '138.South-Apulia',\n",
       " '139.South-Apulia',\n",
       " '14.North-Apulia',\n",
       " '140.South-Apulia',\n",
       " '141.South-Apulia',\n",
       " '142.South-Apulia',\n",
       " '143.South-Apulia',\n",
       " '144.South-Apulia',\n",
       " '145.South-Apulia',\n",
       " '146.South-Apulia',\n",
       " '147.South-Apulia',\n",
       " '148.South-Apulia',\n",
       " '149.South-Apulia',\n",
       " '15.North-Apulia',\n",
       " '150.South-Apulia',\n",
       " '151.South-Apulia',\n",
       " '152.South-Apulia',\n",
       " '153.South-Apulia',\n",
       " '154.South-Apulia',\n",
       " '155.South-Apulia',\n",
       " '156.South-Apulia',\n",
       " '157.South-Apulia',\n",
       " '158.South-Apulia',\n",
       " '159.South-Apulia',\n",
       " '16.North-Apulia',\n",
       " '160.South-Apulia',\n",
       " '161.South-Apulia',\n",
       " '162.South-Apulia',\n",
       " '163.South-Apulia',\n",
       " '164.South-Apulia',\n",
       " '165.South-Apulia',\n",
       " '166.South-Apulia',\n",
       " '167.South-Apulia',\n",
       " '168.South-Apulia',\n",
       " '169.South-Apulia',\n",
       " '17.North-Apulia',\n",
       " '170.South-Apulia',\n",
       " '171.South-Apulia',\n",
       " '172.South-Apulia',\n",
       " '173.South-Apulia',\n",
       " '174.South-Apulia',\n",
       " '175.South-Apulia',\n",
       " '176.South-Apulia',\n",
       " '177.South-Apulia',\n",
       " '178.South-Apulia',\n",
       " '179.South-Apulia',\n",
       " '18.North-Apulia',\n",
       " '180.South-Apulia',\n",
       " '181.South-Apulia',\n",
       " '182.South-Apulia',\n",
       " '183.South-Apulia',\n",
       " '184.South-Apulia',\n",
       " '185.South-Apulia',\n",
       " '186.South-Apulia',\n",
       " '187.South-Apulia',\n",
       " '188.South-Apulia',\n",
       " '189.South-Apulia',\n",
       " '19.North-Apulia',\n",
       " '190.South-Apulia',\n",
       " '191.South-Apulia',\n",
       " '192.South-Apulia',\n",
       " '193.South-Apulia',\n",
       " '194.South-Apulia',\n",
       " '195.South-Apulia',\n",
       " '196.South-Apulia',\n",
       " '197.South-Apulia',\n",
       " '198.South-Apulia',\n",
       " '199.South-Apulia',\n",
       " '2.North-Apulia',\n",
       " '20.North-Apulia',\n",
       " '200.South-Apulia',\n",
       " '201.South-Apulia',\n",
       " '202.South-Apulia',\n",
       " '203.South-Apulia',\n",
       " '204.South-Apulia',\n",
       " '205.South-Apulia',\n",
       " '206.South-Apulia',\n",
       " '207.South-Apulia',\n",
       " '208.South-Apulia',\n",
       " '209.South-Apulia',\n",
       " '21.North-Apulia',\n",
       " '210.South-Apulia',\n",
       " '211.South-Apulia',\n",
       " '212.South-Apulia',\n",
       " '213.South-Apulia',\n",
       " '214.South-Apulia',\n",
       " '215.South-Apulia',\n",
       " '216.South-Apulia',\n",
       " '217.South-Apulia',\n",
       " '218.South-Apulia',\n",
       " '219.South-Apulia',\n",
       " '22.North-Apulia',\n",
       " '220.South-Apulia',\n",
       " '221.South-Apulia',\n",
       " '222.South-Apulia',\n",
       " '223.South-Apulia',\n",
       " '224.South-Apulia',\n",
       " '225.South-Apulia',\n",
       " '226.South-Apulia',\n",
       " '227.South-Apulia',\n",
       " '228.South-Apulia',\n",
       " '229.South-Apulia',\n",
       " '23.North-Apulia',\n",
       " '230.South-Apulia',\n",
       " '231.South-Apulia',\n",
       " '232.South-Apulia',\n",
       " '233.South-Apulia',\n",
       " '234.South-Apulia',\n",
       " '235.South-Apulia',\n",
       " '236.South-Apulia',\n",
       " '237.South-Apulia',\n",
       " '238.South-Apulia',\n",
       " '239.South-Apulia',\n",
       " '24.North-Apulia',\n",
       " '240.South-Apulia',\n",
       " '241.South-Apulia',\n",
       " '242.South-Apulia',\n",
       " '243.South-Apulia',\n",
       " '244.South-Apulia',\n",
       " '245.South-Apulia',\n",
       " '246.South-Apulia',\n",
       " '247.South-Apulia',\n",
       " '248.South-Apulia',\n",
       " '249.South-Apulia',\n",
       " '25.North-Apulia',\n",
       " '250.South-Apulia',\n",
       " '251.South-Apulia',\n",
       " '252.South-Apulia',\n",
       " '253.South-Apulia',\n",
       " '254.South-Apulia',\n",
       " '255.South-Apulia',\n",
       " '256.South-Apulia',\n",
       " '257.South-Apulia',\n",
       " '258.Sicily',\n",
       " '259.Sicily',\n",
       " '26.Calabria',\n",
       " '260.Sicily',\n",
       " '261.Sicily',\n",
       " '262.Sicily',\n",
       " '263.Sicily',\n",
       " '264.Sicily',\n",
       " '265.Sicily',\n",
       " '266.Sicily',\n",
       " '267.Sicily',\n",
       " '268.Sicily',\n",
       " '269.Sicily',\n",
       " '27.Calabria',\n",
       " '270.Sicily',\n",
       " '271.Sicily',\n",
       " '272.Sicily',\n",
       " '273.Sicily',\n",
       " '274.Sicily',\n",
       " '275.Sicily',\n",
       " '276.Sicily',\n",
       " '277.Sicily',\n",
       " '278.Sicily',\n",
       " '279.Sicily',\n",
       " '28.Calabria',\n",
       " '280.Sicily',\n",
       " '281.Sicily',\n",
       " '282.Sicily',\n",
       " '283.Sicily',\n",
       " '284.Sicily',\n",
       " '285.Sicily',\n",
       " '286.Sicily',\n",
       " '287.Sicily',\n",
       " '288.Sicily',\n",
       " '289.Sicily',\n",
       " '29.Calabria',\n",
       " '290.Sicily',\n",
       " '291.Sicily',\n",
       " '292.Sicily',\n",
       " '293.Sicily',\n",
       " '294.South-Apulia',\n",
       " '295.South-Apulia',\n",
       " '296.South-Apulia',\n",
       " '297.South-Apulia',\n",
       " '298.South-Apulia',\n",
       " '299.South-Apulia',\n",
       " '3.North-Apulia',\n",
       " '30.Calabria',\n",
       " '300.South-Apulia',\n",
       " '301.South-Apulia',\n",
       " '302.South-Apulia',\n",
       " '303.South-Apulia',\n",
       " '304.South-Apulia',\n",
       " '305.South-Apulia',\n",
       " '306.South-Apulia',\n",
       " '307.South-Apulia',\n",
       " '308.South-Apulia',\n",
       " '309.South-Apulia',\n",
       " '31.Calabria',\n",
       " '310.South-Apulia',\n",
       " '311.South-Apulia',\n",
       " '312.South-Apulia',\n",
       " '313.South-Apulia',\n",
       " '314.South-Apulia',\n",
       " '315.South-Apulia',\n",
       " '316.South-Apulia',\n",
       " '317.South-Apulia',\n",
       " '318.South-Apulia',\n",
       " '319.South-Apulia',\n",
       " '32.Calabria',\n",
       " '320.South-Apulia',\n",
       " '321.South-Apulia',\n",
       " '322.South-Apulia',\n",
       " '323.South-Apulia',\n",
       " '324.Inland-Sardinia',\n",
       " '325.Inland-Sardinia',\n",
       " '326.Inland-Sardinia',\n",
       " '327.Inland-Sardinia',\n",
       " '328.Inland-Sardinia',\n",
       " '329.Inland-Sardinia',\n",
       " '33.Calabria',\n",
       " '330.Inland-Sardinia',\n",
       " '331.Inland-Sardinia',\n",
       " '332.Inland-Sardinia',\n",
       " '333.Inland-Sardinia',\n",
       " '334.Inland-Sardinia',\n",
       " '335.Coast-Sardinia',\n",
       " '336.Coast-Sardinia',\n",
       " '337.Coast-Sardinia',\n",
       " '338.Coast-Sardinia',\n",
       " '339.Coast-Sardinia',\n",
       " '34.Calabria',\n",
       " '340.Coast-Sardinia',\n",
       " '341.Inland-Sardinia',\n",
       " '342.Inland-Sardinia',\n",
       " '343.Inland-Sardinia',\n",
       " '344.Inland-Sardinia',\n",
       " '345.Inland-Sardinia',\n",
       " '346.Inland-Sardinia',\n",
       " '347.Inland-Sardinia',\n",
       " '348.Inland-Sardinia',\n",
       " '349.Inland-Sardinia',\n",
       " '35.Calabria',\n",
       " '350.Inland-Sardinia',\n",
       " '351.Inland-Sardinia',\n",
       " '352.Inland-Sardinia',\n",
       " '353.Inland-Sardinia',\n",
       " '354.Inland-Sardinia',\n",
       " '355.Inland-Sardinia',\n",
       " '356.Inland-Sardinia',\n",
       " '357.Inland-Sardinia',\n",
       " '358.Inland-Sardinia',\n",
       " '359.Inland-Sardinia',\n",
       " '36.Calabria',\n",
       " '360.Inland-Sardinia',\n",
       " '361.Inland-Sardinia',\n",
       " '362.Inland-Sardinia',\n",
       " '363.Inland-Sardinia',\n",
       " '364.Inland-Sardinia',\n",
       " '365.Inland-Sardinia',\n",
       " '366.Inland-Sardinia',\n",
       " '367.Inland-Sardinia',\n",
       " '368.Inland-Sardinia',\n",
       " '369.Inland-Sardinia',\n",
       " '37.Calabria',\n",
       " '370.Inland-Sardinia',\n",
       " '371.Coast-Sardinia',\n",
       " '372.Coast-Sardinia',\n",
       " '373.Coast-Sardinia',\n",
       " '374.Coast-Sardinia',\n",
       " '375.Coast-Sardinia',\n",
       " '376.Coast-Sardinia',\n",
       " '377.Coast-Sardinia',\n",
       " '378.Coast-Sardinia',\n",
       " '379.Coast-Sardinia',\n",
       " '38.Calabria',\n",
       " '380.Coast-Sardinia',\n",
       " '381.Coast-Sardinia',\n",
       " '382.Coast-Sardinia',\n",
       " '383.Coast-Sardinia',\n",
       " '384.Coast-Sardinia',\n",
       " '385.Coast-Sardinia',\n",
       " '386.Inland-Sardinia',\n",
       " '387.Inland-Sardinia',\n",
       " '388.Inland-Sardinia',\n",
       " '389.Inland-Sardinia',\n",
       " '39.Calabria',\n",
       " '390.Inland-Sardinia',\n",
       " '391.Inland-Sardinia',\n",
       " '392.Inland-Sardinia',\n",
       " '393.Inland-Sardinia',\n",
       " '394.Inland-Sardinia',\n",
       " '395.Inland-Sardinia',\n",
       " '396.Inland-Sardinia',\n",
       " '397.Inland-Sardinia',\n",
       " '398.Inland-Sardinia',\n",
       " '399.Inland-Sardinia',\n",
       " '4.North-Apulia',\n",
       " '40.Calabria',\n",
       " '400.Inland-Sardinia',\n",
       " '401.Inland-Sardinia',\n",
       " '402.Inland-Sardinia',\n",
       " '403.Inland-Sardinia',\n",
       " '404.Inland-Sardinia',\n",
       " '405.Inland-Sardinia',\n",
       " '406.Inland-Sardinia',\n",
       " '407.Inland-Sardinia',\n",
       " '408.Inland-Sardinia',\n",
       " '409.Inland-Sardinia',\n",
       " '41.Calabria',\n",
       " '410.Coast-Sardinia',\n",
       " '411.Coast-Sardinia',\n",
       " '412.Coast-Sardinia',\n",
       " '413.Coast-Sardinia',\n",
       " '414.Coast-Sardinia',\n",
       " '415.Coast-Sardinia',\n",
       " '416.Coast-Sardinia',\n",
       " '417.Coast-Sardinia',\n",
       " '418.Coast-Sardinia',\n",
       " '419.Coast-Sardinia',\n",
       " '42.Calabria',\n",
       " '420.Coast-Sardinia',\n",
       " '421.Coast-Sardinia',\n",
       " '422.Umbria',\n",
       " '423.Umbria',\n",
       " '424.Umbria',\n",
       " '425.Umbria',\n",
       " '426.Umbria',\n",
       " '427.Umbria',\n",
       " '428.Umbria',\n",
       " '429.Umbria',\n",
       " '43.Calabria',\n",
       " '430.Umbria',\n",
       " '431.Umbria',\n",
       " '432.Umbria',\n",
       " '433.Umbria',\n",
       " '434.Umbria',\n",
       " '435.Umbria',\n",
       " '436.Umbria',\n",
       " '437.Umbria',\n",
       " '438.Umbria',\n",
       " '439.Umbria',\n",
       " '44.Calabria',\n",
       " '440.Umbria',\n",
       " '441.Umbria',\n",
       " '442.Umbria',\n",
       " '443.Umbria',\n",
       " '444.Umbria',\n",
       " '445.Umbria',\n",
       " '446.Umbria',\n",
       " '447.Umbria',\n",
       " '448.Umbria',\n",
       " '449.Umbria',\n",
       " '45.Calabria',\n",
       " '450.Umbria',\n",
       " '451.Umbria',\n",
       " '452.Umbria',\n",
       " '453.Umbria',\n",
       " '454.Umbria',\n",
       " '455.Umbria',\n",
       " '456.Umbria',\n",
       " '457.Umbria',\n",
       " '458.Umbria',\n",
       " '459.Umbria',\n",
       " '46.Calabria',\n",
       " '460.Umbria',\n",
       " '461.Umbria',\n",
       " '462.Umbria',\n",
       " '463.Umbria',\n",
       " '464.Umbria',\n",
       " '465.Umbria',\n",
       " '466.Umbria',\n",
       " '467.Umbria',\n",
       " '468.Umbria',\n",
       " '469.Umbria',\n",
       " '47.Calabria',\n",
       " '470.Umbria',\n",
       " '471.Umbria',\n",
       " '472.Umbria',\n",
       " '473.East-Liguria',\n",
       " '474.East-Liguria',\n",
       " '475.East-Liguria',\n",
       " '476.East-Liguria',\n",
       " '477.East-Liguria',\n",
       " '478.East-Liguria',\n",
       " '479.East-Liguria',\n",
       " '48.Calabria',\n",
       " '480.East-Liguria',\n",
       " '481.East-Liguria',\n",
       " '482.East-Liguria',\n",
       " '483.East-Liguria',\n",
       " '484.East-Liguria',\n",
       " '485.East-Liguria',\n",
       " '486.East-Liguria',\n",
       " '487.East-Liguria',\n",
       " '488.East-Liguria',\n",
       " '489.East-Liguria',\n",
       " '49.Calabria',\n",
       " '490.East-Liguria',\n",
       " '491.East-Liguria',\n",
       " '492.East-Liguria',\n",
       " '493.East-Liguria',\n",
       " '494.East-Liguria',\n",
       " '495.East-Liguria',\n",
       " '496.East-Liguria',\n",
       " '497.East-Liguria',\n",
       " '498.East-Liguria',\n",
       " '499.East-Liguria',\n",
       " '5.North-Apulia',\n",
       " '50.Calabria',\n",
       " '500.East-Liguria',\n",
       " '501.East-Liguria',\n",
       " '502.East-Liguria',\n",
       " '503.East-Liguria',\n",
       " '504.East-Liguria',\n",
       " '505.East-Liguria',\n",
       " '506.East-Liguria',\n",
       " '507.East-Liguria',\n",
       " '508.East-Liguria',\n",
       " '509.East-Liguria',\n",
       " '51.Calabria',\n",
       " '510.East-Liguria',\n",
       " '511.East-Liguria',\n",
       " '512.East-Liguria',\n",
       " '513.East-Liguria',\n",
       " '514.East-Liguria',\n",
       " '515.East-Liguria',\n",
       " '516.East-Liguria',\n",
       " '517.East-Liguria',\n",
       " '518.East-Liguria',\n",
       " '519.East-Liguria',\n",
       " '52.Calabria',\n",
       " '520.East-Liguria',\n",
       " '521.East-Liguria',\n",
       " '522.East-Liguria',\n",
       " '523.West-Liguria',\n",
       " '524.West-Liguria',\n",
       " '525.West-Liguria',\n",
       " '526.West-Liguria',\n",
       " '527.West-Liguria',\n",
       " '528.West-Liguria',\n",
       " '529.West-Liguria',\n",
       " '53.Calabria',\n",
       " '530.West-Liguria',\n",
       " '531.West-Liguria',\n",
       " '532.West-Liguria',\n",
       " '533.West-Liguria',\n",
       " '534.West-Liguria',\n",
       " '535.West-Liguria',\n",
       " '536.West-Liguria',\n",
       " '537.West-Liguria',\n",
       " '538.West-Liguria',\n",
       " '539.West-Liguria',\n",
       " '54.Calabria',\n",
       " '540.West-Liguria',\n",
       " '541.West-Liguria',\n",
       " '542.West-Liguria',\n",
       " '543.West-Liguria',\n",
       " '544.West-Liguria',\n",
       " '545.West-Liguria',\n",
       " '546.West-Liguria',\n",
       " '547.West-Liguria',\n",
       " '548.West-Liguria',\n",
       " '549.West-Liguria',\n",
       " '55.Calabria',\n",
       " '550.West-Liguria',\n",
       " '551.West-Liguria',\n",
       " '552.West-Liguria',\n",
       " '553.West-Liguria',\n",
       " '554.West-Liguria',\n",
       " '555.West-Liguria',\n",
       " '556.West-Liguria',\n",
       " '557.West-Liguria',\n",
       " '558.West-Liguria',\n",
       " '559.West-Liguria',\n",
       " '56.Calabria',\n",
       " '560.West-Liguria',\n",
       " '561.West-Liguria',\n",
       " '562.West-Liguria',\n",
       " '563.West-Liguria',\n",
       " '564.West-Liguria',\n",
       " '565.West-Liguria',\n",
       " '566.West-Liguria',\n",
       " '567.West-Liguria',\n",
       " '568.West-Liguria',\n",
       " '569.West-Liguria',\n",
       " '57.Calabria',\n",
       " '570.West-Liguria',\n",
       " '571.West-Liguria',\n",
       " '572.West-Liguria',\n",
       " '58.Calabria',\n",
       " '59.Calabria',\n",
       " '6.North-Apulia',\n",
       " '60.Calabria',\n",
       " '61.Calabria',\n",
       " '62.Calabria',\n",
       " '63.Calabria',\n",
       " '64.Calabria',\n",
       " '65.Calabria',\n",
       " '66.Calabria',\n",
       " '67.Calabria',\n",
       " '68.Calabria',\n",
       " '69.Calabria',\n",
       " '7.North-Apulia',\n",
       " '70.Calabria',\n",
       " '71.Calabria',\n",
       " '72.Calabria',\n",
       " '73.Calabria',\n",
       " '74.Calabria',\n",
       " '75.Calabria',\n",
       " '76.Calabria',\n",
       " '77.Calabria',\n",
       " '78.Calabria',\n",
       " '79.Calabria',\n",
       " '8.North-Apulia',\n",
       " '80.Calabria',\n",
       " '81.Calabria',\n",
       " '82.South-Apulia',\n",
       " '83.South-Apulia',\n",
       " '84.South-Apulia',\n",
       " '85.South-Apulia',\n",
       " '86.South-Apulia',\n",
       " '87.South-Apulia',\n",
       " '88.South-Apulia',\n",
       " '89.South-Apulia',\n",
       " '9.North-Apulia',\n",
       " '90.South-Apulia',\n",
       " '91.South-Apulia',\n",
       " '92.South-Apulia',\n",
       " '93.South-Apulia',\n",
       " '94.South-Apulia',\n",
       " '95.South-Apulia',\n",
       " '96.South-Apulia',\n",
       " '97.South-Apulia',\n",
       " '98.South-Apulia',\n",
       " '99.South-Apulia'}"
      ]
     },
     "execution_count": 47,
     "metadata": {},
     "output_type": "execute_result"
    }
   ],
   "source": [
    " set(df['sub_region_desc'])"
   ]
  },
  {
   "cell_type": "markdown",
   "metadata": {},
   "source": [
    "## Q14:  Looks like 'sub_region_desc' has line numbers attached to the beginning of region name.  We need to do some data cleaning.  Can you remove them?  \n",
    "```\n",
    " \tregion \tsub_region \tpalmitic \tpalmitoleic \tstearic \toleic \tlinoleic \tlinolenic \tarachidic \teicosenoic \tsub_region_raw\n",
    "sub_region_desc \t\t\t\t\t\t\t\t\t\t\t\n",
    "1.North-Apulia \t1 \t1 \t1 \t1 \t1 \t1 \t1 \t1 \t1 \t1 \t1\n",
    "10.North-Apulia \t1 \t1 \t1 \t1 \t1 \t1 \t1 \t1 \t1 \t1 \t1\n",
    "100.South-Apulia \t1 \t1 \t1 \t1 \t1 \t1 \t1 \t1 \t1 \t1 \t1\n",
    "101.South-Apulia \t1 \t1 \t1 \t1 \t1 \t1 \t1 \t1 \t1 \t1 \t1\n",
    "102.South-Apulia \t1 \t1 \t1 \t1 \t1 \t1 \t1 \t1 \t1 \t1 \t1\n",
    "```\n",
    "\n",
    "Hint:  check out this link\n",
    "http://stackoverflow.com/questions/39583264/pandas-strip-numbers-and-parenthesis-from-string\n",
    " "
   ]
  },
  {
   "cell_type": "code",
   "execution_count": 67,
   "metadata": {},
   "outputs": [],
   "source": [
    "df['sub_region_desc'] = df['sub_region_desc'].str.replace(r'\\d+.','')"
   ]
  },
  {
   "cell_type": "code",
   "execution_count": 68,
   "metadata": {},
   "outputs": [
    {
     "data": {
      "text/html": [
       "<div>\n",
       "<style>\n",
       "    .dataframe thead tr:only-child th {\n",
       "        text-align: right;\n",
       "    }\n",
       "\n",
       "    .dataframe thead th {\n",
       "        text-align: left;\n",
       "    }\n",
       "\n",
       "    .dataframe tbody tr th {\n",
       "        vertical-align: top;\n",
       "    }\n",
       "</style>\n",
       "<table border=\"1\" class=\"dataframe\">\n",
       "  <thead>\n",
       "    <tr style=\"text-align: right;\">\n",
       "      <th></th>\n",
       "      <th>sub_region_desc</th>\n",
       "      <th>region</th>\n",
       "      <th>sub_region</th>\n",
       "      <th>palmitic</th>\n",
       "      <th>palmitoleic</th>\n",
       "      <th>stearic</th>\n",
       "      <th>oleic</th>\n",
       "      <th>linoleic</th>\n",
       "      <th>linolenic</th>\n",
       "      <th>arachidic</th>\n",
       "      <th>eicosenoic</th>\n",
       "      <th>sub_region_raw</th>\n",
       "    </tr>\n",
       "  </thead>\n",
       "  <tbody>\n",
       "    <tr>\n",
       "      <th>0</th>\n",
       "      <td>North-Apulia</td>\n",
       "      <td>1</td>\n",
       "      <td>1</td>\n",
       "      <td>1075</td>\n",
       "      <td>75</td>\n",
       "      <td>226</td>\n",
       "      <td>7823</td>\n",
       "      <td>672</td>\n",
       "      <td>36</td>\n",
       "      <td>60</td>\n",
       "      <td>29</td>\n",
       "      <td>1.North-Apulia</td>\n",
       "    </tr>\n",
       "    <tr>\n",
       "      <th>1</th>\n",
       "      <td>North-Apulia</td>\n",
       "      <td>1</td>\n",
       "      <td>1</td>\n",
       "      <td>1088</td>\n",
       "      <td>73</td>\n",
       "      <td>224</td>\n",
       "      <td>7709</td>\n",
       "      <td>781</td>\n",
       "      <td>31</td>\n",
       "      <td>61</td>\n",
       "      <td>29</td>\n",
       "      <td>2.North-Apulia</td>\n",
       "    </tr>\n",
       "    <tr>\n",
       "      <th>2</th>\n",
       "      <td>North-Apulia</td>\n",
       "      <td>1</td>\n",
       "      <td>1</td>\n",
       "      <td>911</td>\n",
       "      <td>54</td>\n",
       "      <td>246</td>\n",
       "      <td>8113</td>\n",
       "      <td>549</td>\n",
       "      <td>31</td>\n",
       "      <td>63</td>\n",
       "      <td>29</td>\n",
       "      <td>3.North-Apulia</td>\n",
       "    </tr>\n",
       "    <tr>\n",
       "      <th>3</th>\n",
       "      <td>North-Apulia</td>\n",
       "      <td>1</td>\n",
       "      <td>1</td>\n",
       "      <td>966</td>\n",
       "      <td>57</td>\n",
       "      <td>240</td>\n",
       "      <td>7952</td>\n",
       "      <td>619</td>\n",
       "      <td>50</td>\n",
       "      <td>78</td>\n",
       "      <td>35</td>\n",
       "      <td>4.North-Apulia</td>\n",
       "    </tr>\n",
       "    <tr>\n",
       "      <th>4</th>\n",
       "      <td>North-Apulia</td>\n",
       "      <td>1</td>\n",
       "      <td>1</td>\n",
       "      <td>1051</td>\n",
       "      <td>67</td>\n",
       "      <td>259</td>\n",
       "      <td>7771</td>\n",
       "      <td>672</td>\n",
       "      <td>50</td>\n",
       "      <td>80</td>\n",
       "      <td>46</td>\n",
       "      <td>5.North-Apulia</td>\n",
       "    </tr>\n",
       "  </tbody>\n",
       "</table>\n",
       "</div>"
      ],
      "text/plain": [
       "  sub_region_desc  region  sub_region  palmitic  palmitoleic  stearic  oleic  \\\n",
       "0    North-Apulia       1           1      1075           75      226   7823   \n",
       "1    North-Apulia       1           1      1088           73      224   7709   \n",
       "2    North-Apulia       1           1       911           54      246   8113   \n",
       "3    North-Apulia       1           1       966           57      240   7952   \n",
       "4    North-Apulia       1           1      1051           67      259   7771   \n",
       "\n",
       "   linoleic  linolenic  arachidic  eicosenoic  sub_region_raw  \n",
       "0       672         36         60          29  1.North-Apulia  \n",
       "1       781         31         61          29  2.North-Apulia  \n",
       "2       549         31         63          29  3.North-Apulia  \n",
       "3       619         50         78          35  4.North-Apulia  \n",
       "4       672         50         80          46  5.North-Apulia  "
      ]
     },
     "execution_count": 68,
     "metadata": {},
     "output_type": "execute_result"
    }
   ],
   "source": [
    "df.head()"
   ]
  },
  {
   "cell_type": "markdown",
   "metadata": {},
   "source": [
    "## Q15:  Try again:  How many unique values of 'sub_region_desc' are there?\n",
    "Hint:  you should see 9 of them!"
   ]
  },
  {
   "cell_type": "code",
   "execution_count": 69,
   "metadata": {},
   "outputs": [
    {
     "data": {
      "text/plain": [
       "{'Calabria',\n",
       " 'Coast-Sardinia',\n",
       " 'East-Liguria',\n",
       " 'Inland-Sardinia',\n",
       " 'North-Apulia',\n",
       " 'Sicily',\n",
       " 'South-Apulia',\n",
       " 'Umbria',\n",
       " 'West-Liguria'}"
      ]
     },
     "execution_count": 69,
     "metadata": {},
     "output_type": "execute_result"
    }
   ],
   "source": [
    "  set(df['sub_region_desc'])"
   ]
  },
  {
   "cell_type": "markdown",
   "metadata": {},
   "source": [
    "## Q16:   Create a horizontal frequency barplot for 'region'"
   ]
  },
  {
   "cell_type": "code",
   "execution_count": 121,
   "metadata": {},
   "outputs": [
    {
     "data": {
      "text/plain": [
       "Text(0.5,1,'Horizontal Frequency Barplot of Region')"
      ]
     },
     "execution_count": 121,
     "metadata": {},
     "output_type": "execute_result"
    },
    {
     "data": {
      "image/png": "[encoded data removed]",
      "text/plain": [
       "<matplotlib.figure.Figure at 0x7f44e5ff0240>"
      ]
     },
     "metadata": {},
     "output_type": "display_data"
    }
   ],
   "source": [
    "df['region'].value_counts(sort=False).plot(kind='barh')\n",
    "plt.xlabel(\"Frequency\")\n",
    "plt.ylabel(\"Region\")\n",
    "plt.title(\"Horizontal Frequency Barplot of Region\")"
   ]
  },
  {
   "cell_type": "markdown",
   "metadata": {},
   "source": [
    "## Q17:   Create a horizontal frequency barplot for 'sub_region'"
   ]
  },
  {
   "cell_type": "code",
   "execution_count": 123,
   "metadata": {},
   "outputs": [
    {
     "data": {
      "text/plain": [
       "Text(0.5,1,'Horizontal Frequency Barplot of Subregion')"
      ]
     },
     "execution_count": 123,
     "metadata": {},
     "output_type": "execute_result"
    },
    {
     "data": {
      "image/png": "[encoded data removed]",
      "text/plain": [
       "<matplotlib.figure.Figure at 0x7f44e60faeb8>"
      ]
     },
     "metadata": {},
     "output_type": "display_data"
    }
   ],
   "source": [
    " df['sub_region'].value_counts(sort=False).plot(kind='barh')\n",
    "plt.xlabel(\"Frequency\")\n",
    "plt.ylabel(\"Subregion\")\n",
    "plt.title(\"Horizontal Frequency Barplot of Subregion\")"
   ]
  },
  {
   "cell_type": "markdown",
   "metadata": {},
   "source": [
    "## Q18:   Create a horizontal frequency barplot for 'sub_region_desc'"
   ]
  },
  {
   "cell_type": "code",
   "execution_count": 125,
   "metadata": {},
   "outputs": [
    {
     "data": {
      "text/plain": [
       "Text(0.5,1,'Horizontal Frequency Barplot of Subregion')"
      ]
     },
     "execution_count": 125,
     "metadata": {},
     "output_type": "execute_result"
    },
    {
     "data": {
      "image/png": "[encoded data removed]",
      "text/plain": [
       "<matplotlib.figure.Figure at 0x7f44e5e99470>"
      ]
     },
     "metadata": {},
     "output_type": "display_data"
    }
   ],
   "source": [
    "df['sub_region_desc'].value_counts().plot(kind='barh')\n",
    "plt.xlabel(\"Frequency\")\n",
    "plt.ylabel(\"Subregion\")\n",
    "plt.title(\"Horizontal Frequency Barplot of Subregion\")"
   ]
  },
  {
   "cell_type": "code",
   "execution_count": null,
   "metadata": {
    "collapsed": true
   },
   "outputs": [],
   "source": []
  }
 ],
 "metadata": {
  "anaconda-cloud": {},
  "kernelspec": {
   "display_name": "Python 3",
   "language": "python",
   "name": "python3"
  },
  "language_info": {
   "codemirror_mode": {
    "name": "ipython",
    "version": 3
   },
   "file_extension": ".py",
   "mimetype": "text/x-python",
   "name": "python",
   "nbconvert_exporter": "python",
   "pygments_lexer": "ipython3",
   "version": "3.6.3"
  }
 },
 "nbformat": 4,
 "nbformat_minor": 1
}
